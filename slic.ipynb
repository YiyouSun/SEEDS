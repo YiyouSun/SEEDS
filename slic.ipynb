{
 "cells": [
  {
   "cell_type": "code",
   "execution_count": 91,
   "metadata": {},
   "outputs": [
    {
     "name": "stdout",
     "output_type": "stream",
     "text": [
      "The autoreload extension is already loaded. To reload it, use:\n",
      "  %reload_ext autoreload\n"
     ]
    }
   ],
   "source": [
    "%load_ext autoreload\n",
    "%autoreload 2\n",
    "import os\n",
    "import numpy as np\n",
    "import pickle\n",
    "from pathlib import Path\n",
    "import matplotlib.pyplot as plt\n",
    "import numpy as np\n",
    "import cv2\n",
    "import math\n",
    "import itertools\n",
    "import operator\n",
    "from skimage.feature import graycoprops\n",
    "from skimage.feature import graycomatrix\n",
    "# ROC curve\n",
    "from sklearn.metrics import roc_curve, auc\n",
    "from sklearn.metrics import roc_auc_score\n",
    "import aaa\n",
    "import pickle\n",
    "import math\n",
    "from skimage import io, color\n",
    "import numpy as np\n",
    "from tqdm import trange\n",
    "from extraction import *\n",
    "from scipy.interpolate import RegularGridInterpolator\n",
    "from scipy.ndimage import binary_dilation"
   ]
  },
  {
   "cell_type": "code",
   "execution_count": 30,
   "metadata": {},
   "outputs": [],
   "source": [
    "def map_is_valid_coords_to_target(input_is_valid,\n",
    "                                  input_origin_mm,\n",
    "                                  input_voxel_size_mm,\n",
    "                                  target_shape,\n",
    "                                  target_origin_mm,\n",
    "                                  target_voxel_size_mm,\n",
    "                                  ):\n",
    "\n",
    "    # voxels in feature space where the features are computed\n",
    "    valid_voxels = np.argwhere(input_is_valid).T\n",
    "    valid_voxel_pos = (valid_voxels * input_voxel_size_mm + np.array(input_origin_mm).reshape(3, 1))\n",
    "\n",
    "    # indices of valid voxels in target space\n",
    "    valid_target_ind = valid_voxel_pos - np.array(target_origin_mm).reshape(3, 1)\n",
    "    valid_target_ind = valid_target_ind / target_voxel_size_mm\n",
    "\n",
    "    # clip values out of range and convert to indexable dtype\n",
    "    min_index = np.zeros((3, 1))\n",
    "    max_index = np.array(target_shape).reshape(3, 1) - 1\n",
    "    valid_target_ind = np.clip(valid_target_ind, min_index, max_index)\n",
    "    valid_target_ind = np.rint(valid_target_ind).astype('int32')\n",
    "\n",
    "    return valid_target_ind\n",
    "\n",
    "\n"
   ]
  },
  {
   "cell_type": "markdown",
   "metadata": {},
   "source": [
    "### Load patient "
   ]
  },
  {
   "cell_type": "code",
   "execution_count": 52,
   "metadata": {},
   "outputs": [
    {
     "name": "stdout",
     "output_type": "stream",
     "text": [
      "dict_keys(['voxel_size_mm', 'origin_mm', 'timestamps_s', 'dynamic_range_db', 'max_radius_mm', 'data4d', 'is_valid', 'type', 'scan_settings'])\n",
      "(287, 224, 234, 20)\n"
     ]
    }
   ],
   "source": [
    "#DATA_PATH = \"/Users/sunyiyou/cudi_research\"\n",
    "DATA_PATH = \"/Volumes/NIH-AA/florian/graph_intermediate\"\n",
    "patient_id = \"TULIP/AVL-061\"\n",
    "\n",
    "#bmode = aaa.load(os.path.join(DATA_PATH,patient_id,\"bmode_texture_cropped_0.aaa\"))\n",
    "#ceus_4d = aaa.load(os.path.join(DATA_PATH,patient_id,\"ceus_lowres_0_75_0.aaa\"))\n",
    "ceus_4d = aaa.load(os.path.join(DATA_PATH,patient_id,\"ceus_texture_frames_cropped_0.aaa\"))\n",
    "\n",
    "print(ceus_4d.keys())\n",
    "print(ceus_4d['data4d'].shape)\n"
   ]
  },
  {
   "cell_type": "code",
   "execution_count": 53,
   "metadata": {},
   "outputs": [
    {
     "name": "stdout",
     "output_type": "stream",
     "text": [
      "dict_keys(['origin_mm', 'voxel_size_mm', 'annotations', 'histology_map', 'is_valid'])\n",
      "['binary_sparse', 'binary', 'dense']\n",
      "(95, 75, 78, 3)\n"
     ]
    }
   ],
   "source": [
    "registration_path = \"/Volumes/NIH-AA/florian/local-data/annotations_g3g4lt20\"\n",
    "\n",
    "registration_file = open(os.path.join(registration_path,patient_id,\"annotations.pkl\"), \"rb\")\n",
    "\n",
    "registration = pickle.load(registration_file)\n",
    "\n",
    "print(registration.keys())\n",
    "print(registration['annotations'])\n",
    "print(registration['histology_map'].shape)\n",
    "valid_target_ind = map_is_valid_coords_to_target(\n",
    "                                  \n",
    "                                  ceus_4d['is_valid'],\n",
    "                                  ceus_4d['origin_mm'],\n",
    "                                  ceus_4d['voxel_size_mm'],\n",
    "                                  registration['is_valid'].shape,\n",
    "                                  registration['origin_mm'],\n",
    "                                  registration['voxel_size_mm'],\n",
    "                                  )\n"
   ]
  },
  {
   "cell_type": "code",
   "execution_count": 54,
   "metadata": {},
   "outputs": [
    {
     "name": "stdout",
     "output_type": "stream",
     "text": [
      "(3, 10283071)\n"
     ]
    }
   ],
   "source": [
    "## recover the high-resolution map\n",
    "\n",
    "frame_idx = 13\n",
    "valid_source_ind = np.argwhere(ceus_4d['is_valid']).T\n",
    "print(valid_source_ind.shape)\n",
    "sample_size = 20\n",
    "target = np.full(ceus_4d['is_valid'].shape, np.nan, dtype='float32')\n",
    "target_mask = np.zeros(ceus_4d['is_valid'].shape,)\n",
    "#annotation = registration['histology_map'][:,:,:,2]\n",
    "annotation = crop_image_mask(registration['histology_map'][:,:,:,2],registration['is_valid'])\n",
    "#print(high_res[valid_source_ind[0,0:sample_size],valid_source_ind[1,0:sample_size],valid_source_ind[2,0:sample_size]].shape)\n",
    "for i in range(0, valid_source_ind.shape[1], sample_size):\n",
    "    target[tuple(valid_source_ind[:, i:i + sample_size].reshape(3, -1, 1))] = annotation[tuple(valid_target_ind[:, i:i + sample_size].reshape(3, -1, 1))]\n",
    "    target_mask[tuple(valid_source_ind[:, i:i + sample_size].reshape(3, -1, 1))] = registration['is_valid'][tuple(valid_target_ind[:, i:i + sample_size].reshape(3, -1, 1))]"
   ]
  },
  {
   "cell_type": "code",
   "execution_count": 55,
   "metadata": {},
   "outputs": [
    {
     "name": "stdout",
     "output_type": "stream",
     "text": [
      "(4500, 2) (1161, 2)\n"
     ]
    }
   ],
   "source": [
    "slice_idx = 75\n",
    "valid_annotation = np.argwhere(target_mask[slice_idx,:,:])\n",
    "benign_annotation = valid_annotation[target[slice_idx,:,:][tuple(valid_annotation.T)] < .5]\n",
    "malignant_annotation = valid_annotation[target[slice_idx,:,:][tuple(valid_annotation.T)] > .5]\n",
    "print(benign_annotation.shape, malignant_annotation.shape)\n"
   ]
  },
  {
   "cell_type": "markdown",
   "metadata": {},
   "source": [
    "### SLIC 2D"
   ]
  },
  {
   "cell_type": "code",
   "execution_count": 92,
   "metadata": {},
   "outputs": [],
   "source": [
    "class Cluster(object):\n",
    "    cluster_index = 1\n",
    "\n",
    "    def __init__(self, h, w, l=0, a=0, b=0):\n",
    "        self.update(h, w, l, a, b)\n",
    "        self.pixels = []\n",
    "        self.boundarypixels = []\n",
    "        self.no = self.cluster_index\n",
    "        Cluster.cluster_index += 1\n",
    "\n",
    "    def update(self, h, w, l, a, b):\n",
    "        self.h = h\n",
    "        self.w = w\n",
    "        self.l = l\n",
    "        self.a = a\n",
    "        self.b = b\n",
    "\n",
    "    def __str__(self):\n",
    "        return \"{},{}:{} {} {} \".format(self.h, self.w, self.l, self.a, self.b)\n",
    "\n",
    "    def __repr__(self):\n",
    "        return self.__str__()\n",
    "\n",
    "\n",
    "class SLICProcessor(object):\n",
    "    @staticmethod\n",
    "    \n",
    "\n",
    "    @staticmethod\n",
    "    def save_lab_image(path, lab_arr):\n",
    "        \"\"\"\n",
    "        Convert the array to RBG, then save the image\n",
    "        :param path:\n",
    "        :param lab_arr:\n",
    "        :return:\n",
    "        \"\"\"\n",
    "        abs_path = os.path.join(\"outputs\",path)\n",
    "        gray_arr = lab_arr[:,:,0]\n",
    "        \n",
    "        io.imsave(abs_path, gray_arr)\n",
    "\n",
    "    def make_cluster(self, h, w):\n",
    "        h = int(h)\n",
    "        w = int(w)\n",
    "        return Cluster(h, w,\n",
    "                       self.data[h][w][0],\n",
    "                       self.data[h][w][1],\n",
    "                       self.data[h][w][2])\n",
    "    \n",
    "    def __init__(self, image, K, M):\n",
    "        self.K = K # total number of superpixels \n",
    "        self.M = M\n",
    "\n",
    "        self.data = image\n",
    "        self.image_height = self.data.shape[0]\n",
    "        self.image_width = self.data.shape[1]\n",
    "        self.N = self.image_height * self.image_width\n",
    "        self.S = int(math.sqrt(self.N / self.K))\n",
    "\n",
    "        self.clusters = []\n",
    "        self.label = {}\n",
    "        self.dis = np.full((self.image_height, self.image_width), np.inf)\n",
    "\n",
    "    def init_clusters(self):\n",
    "        h = self.S / 2\n",
    "        w = self.S / 2\n",
    "        while h < self.image_height:\n",
    "            while w < self.image_width:\n",
    "                self.clusters.append(self.make_cluster(h, w))\n",
    "                w += self.S\n",
    "            w = self.S / 2\n",
    "            h += self.S\n",
    "\n",
    "    def get_gradient(self, h, w):\n",
    "        if w + 1 >= self.image_width:\n",
    "            w = self.image_width - 2\n",
    "        if h + 1 >= self.image_height:\n",
    "            h = self.image_height - 2\n",
    "        \n",
    "        gradient = self.data[h + 1][w + 1][0] - self.data[h][w][0] + self.data[h + 1][w + 1][1] - self.data[h][w][1] + self.data[h + 1][w + 1][2] - self.data[h][w][2]\n",
    "        \n",
    "        return gradient\n",
    "\n",
    "    def move_clusters(self):\n",
    "        for cluster in self.clusters:\n",
    "            cluster_gradient = self.get_gradient(cluster.h, cluster.w)\n",
    "            for dh in range(-1, 2):\n",
    "                for dw in range(-1, 2):\n",
    "                    _h = cluster.h + dh\n",
    "                    _w = cluster.w + dw\n",
    "                    new_gradient = self.get_gradient(_h, _w)\n",
    "                    if new_gradient < cluster_gradient:\n",
    "                        cluster.update(_h, _w, self.data[_h][_w][0], self.data[_h][_w][1], self.data[_h][_w][2])\n",
    "                        cluster_gradient = new_gradient\n",
    "\n",
    "    def assignment(self):\n",
    "        for cluster in self.clusters:\n",
    "            for h in range(cluster.h - 2 * self.S, cluster.h + 2 * self.S):\n",
    "                if h < 0 or h >= self.image_height: continue\n",
    "                for w in range(cluster.w - 2 * self.S, cluster.w + 2 * self.S):\n",
    "                    if w < 0 or w >= self.image_width: continue\n",
    "                    L, A, B = self.data[h][w]\n",
    "                    Dc = math.sqrt(\n",
    "                        math.pow(L - cluster.l, 2) +\n",
    "                        math.pow(A - cluster.a, 2) +\n",
    "                        math.pow(B - cluster.b, 2))\n",
    "                    Ds = math.sqrt(\n",
    "                        math.pow(h - cluster.h, 2) +\n",
    "                        math.pow(w - cluster.w, 2))\n",
    "                    D = math.sqrt(math.pow(Dc / self.M, 2) + math.pow(Ds / self.S, 2))\n",
    "                    if D < self.dis[h][w]:\n",
    "                        if (h, w) not in self.label:\n",
    "                            self.label[(h, w)] = cluster\n",
    "                            cluster.pixels.append((h, w))\n",
    "                        else:\n",
    "                            self.label[(h, w)].pixels.remove((h, w))\n",
    "                            self.label[(h, w)] = cluster\n",
    "                            cluster.pixels.append((h, w))\n",
    "                        self.dis[h][w] = D\n",
    "\n",
    "    def update_cluster(self):\n",
    "        for cluster in self.clusters:\n",
    "            sum_h = sum_w = number = 0\n",
    "            for p in cluster.pixels:\n",
    "                sum_h += p[0]\n",
    "                sum_w += p[1]\n",
    "                number += 1\n",
    "            _h = int(sum_h / number)\n",
    "            _w = int(sum_w / number)\n",
    "            cluster.update(_h, _w, self.data[_h][_w][0], self.data[_h][_w][1], self.data[_h][_w][2])\n",
    "\n",
    "    def save_current_image(self, name, boundaryflag=False):\n",
    "        image_arr = np.copy(self.data)\n",
    "        for cluster in self.clusters:\n",
    "            for p in cluster.pixels:\n",
    "                image_arr[p[0]][p[1]][0] = cluster.l\n",
    "                image_arr[p[0]][p[1]][1] = cluster.a\n",
    "                image_arr[p[0]][p[1]][2] = cluster.b\n",
    "            image_arr[cluster.h][cluster.w][0] = 0\n",
    "            image_arr[cluster.h][cluster.w][1] = 0\n",
    "            image_arr[cluster.h][cluster.w][2] = 0\n",
    "        #print(self.clusters[0].pixels)\n",
    "        self.superdata = image_arr\n",
    "        \n",
    "        self.save_lab_image(name, image_arr)\n",
    "\n",
    "    def iterate_times(self, iter):\n",
    "        self.init_clusters()\n",
    "        self.move_clusters()\n",
    "        name = 'ceus2d_init.png'\n",
    "        self.save_current_image(name)\n",
    "        for i in trange(iter):\n",
    "            self.assignment()\n",
    "            self.update_cluster()\n",
    "            if i % 9 ==0:\n",
    "                name = 'ceus2d{m}_K{k}_loop{loop}.png'.format(loop=i, m=self.M, k=self.K)\n",
    "                self.save_current_image(name)\n",
    "            \n"
   ]
  },
  {
   "cell_type": "code",
   "execution_count": 93,
   "metadata": {},
   "outputs": [
    {
     "name": "stderr",
     "output_type": "stream",
     "text": [
      "/var/folders/84/xt8pzl1j3yg89z8_j1mxygpw0000gn/T/ipykernel_7022/2343996866.py:80: RuntimeWarning: overflow encountered in ubyte_scalars\n",
      "  gradient = self.data[h + 1][w + 1][0] - self.data[h][w][0] + self.data[h + 1][w + 1][1] - self.data[h][w][1] + self.data[h + 1][w + 1][2] - self.data[h][w][2]\n",
      "  0%|          | 0/1 [00:00<?, ?it/s]/var/folders/84/xt8pzl1j3yg89z8_j1mxygpw0000gn/T/ipykernel_7022/2343996866.py:104: RuntimeWarning: overflow encountered in ubyte_scalars\n",
      "  math.pow(L - cluster.l, 2) +\n",
      "/var/folders/84/xt8pzl1j3yg89z8_j1mxygpw0000gn/T/ipykernel_7022/2343996866.py:105: RuntimeWarning: overflow encountered in ubyte_scalars\n",
      "  math.pow(A - cluster.a, 2) +\n",
      "/var/folders/84/xt8pzl1j3yg89z8_j1mxygpw0000gn/T/ipykernel_7022/2343996866.py:106: RuntimeWarning: overflow encountered in ubyte_scalars\n",
      "  math.pow(B - cluster.b, 2))\n",
      "100%|██████████| 1/1 [00:05<00:00,  5.26s/it]\n"
     ]
    }
   ],
   "source": [
    "image = np.repeat(ceus_4d['data4d'][:, :, :, frame_idx,np.newaxis], 3, axis=3).squeeze()\n",
    "p = SLICProcessor(image[75,:,:], 300, 40)\n",
    "p.iterate_times(1)"
   ]
  },
  {
   "cell_type": "code",
   "execution_count": 78,
   "metadata": {},
   "outputs": [
    {
     "name": "stdout",
     "output_type": "stream",
     "text": [
      "(224, 234, 3)\n",
      "306\n",
      "169\n",
      "(7, 9)\n"
     ]
    }
   ],
   "source": [
    "print(p.data.shape)\n",
    "print(len(p.clusters))## how many superpixel created\n",
    "print(len(p.clusters[0].pixels)) ## pixels numbers of one superpixel\n",
    "print(p.clusters[0].pixels[100]) ## returns to pixel indexes"
   ]
  },
  {
   "cell_type": "markdown",
   "metadata": {},
   "source": [
    "### one bad way to find boundaries"
   ]
  },
  {
   "cell_type": "code",
   "execution_count": 88,
   "metadata": {},
   "outputs": [
    {
     "data": {
      "text/plain": [
       "<matplotlib.image.AxesImage at 0x12936a260>"
      ]
     },
     "execution_count": 88,
     "metadata": {},
     "output_type": "execute_result"
    },
    {
     "data": {
      "image/png": "[encoded data removed]",
      "text/plain": [
       "<Figure size 640x480 with 3 Axes>"
      ]
     },
     "metadata": {},
     "output_type": "display_data"
    }
   ],
   "source": [
    "diation = binary_dilation(p.superdata[:,:,0])\n",
    "plt.figure\n",
    "plt.subplot(1,3,1)\n",
    "plt.imshow(diation,cmap='gray')\n",
    "plt.subplot(1,3,2)\n",
    "plt.imshow(p.superdata[:,:,0],cmap='gray')\n",
    "plt.subplot(1,3,3)\n",
    "plt.imshow(diation-p.superdata[:,:,0],cmap='gray')\n",
    "\n"
   ]
  },
  {
   "cell_type": "markdown",
   "metadata": {},
   "source": [
    "### SLIC 3D"
   ]
  },
  {
   "cell_type": "code",
   "execution_count": 45,
   "metadata": {},
   "outputs": [
    {
     "name": "stdout",
     "output_type": "stream",
     "text": [
      "(160, 81, 144, 3)\n"
     ]
    },
    {
     "data": {
      "text/plain": [
       "<matplotlib.image.AxesImage at 0x12fa22140>"
      ]
     },
     "execution_count": 45,
     "metadata": {},
     "output_type": "execute_result"
    },
    {
     "data": {
      "image/png": "[encoded data removed]",
      "text/plain": [
       "<Figure size 640x480 with 1 Axes>"
      ]
     },
     "metadata": {},
     "output_type": "display_data"
    }
   ],
   "source": [
    "#image = np.repeat(bmode['data4d'][:, :, :, np.newaxis], 3, axis=3).squeeze()\n",
    "image = np.repeat(ceus_4d['data4d'][:, :, :, 100,np.newaxis], 3, axis=3).squeeze()\n",
    "print(image.shape)\n",
    "plt.figure()\n",
    "plt.imshow(image[60,:,:,0],cmap='gray')\n"
   ]
  },
  {
   "cell_type": "code",
   "execution_count": 46,
   "metadata": {},
   "outputs": [
    {
     "name": "stdout",
     "output_type": "stream",
     "text": [
      "init []\n",
      "move []\n"
     ]
    },
    {
     "name": "stderr",
     "output_type": "stream",
     "text": [
      "  5%|▌         | 1/20 [17:10<5:26:15, 1030.28s/it]\n"
     ]
    },
    {
     "ename": "OSError",
     "evalue": "[Errno 28] No space left on device",
     "output_type": "error",
     "traceback": [
      "\u001b[0;31m---------------------------------------------------------------------------\u001b[0m",
      "\u001b[0;31mOSError\u001b[0m                                   Traceback (most recent call last)",
      "File \u001b[0;32m~/cudi_research/python-venv/lib/python3.10/site-packages/imageio/v2.py:264\u001b[0m, in \u001b[0;36mimwrite\u001b[0;34m(uri, im, format, **kwargs)\u001b[0m\n\u001b[1;32m    263\u001b[0m \u001b[39mwith\u001b[39;00m imopen(uri, \u001b[39m\"\u001b[39m\u001b[39mwi\u001b[39m\u001b[39m\"\u001b[39m, \u001b[39m*\u001b[39m\u001b[39m*\u001b[39mimopen_args) \u001b[39mas\u001b[39;00m file:\n\u001b[0;32m--> 264\u001b[0m     \u001b[39mreturn\u001b[39;00m file\u001b[39m.\u001b[39;49mwrite(im, \u001b[39m*\u001b[39;49m\u001b[39m*\u001b[39;49mkwargs)\n",
      "File \u001b[0;32m~/cudi_research/python-venv/lib/python3.10/site-packages/imageio/core/legacy_plugin_wrapper.py:253\u001b[0m, in \u001b[0;36mLegacyPlugin.write\u001b[0;34m(self, ndimage, is_batch, metadata, **kwargs)\u001b[0m\n\u001b[1;32m    249\u001b[0m             \u001b[39mraise\u001b[39;00m \u001b[39mValueError\u001b[39;00m(\n\u001b[1;32m    250\u001b[0m                 \u001b[39mf\u001b[39m\u001b[39m\"\u001b[39m\u001b[39mAll images have to be numeric, and not `\u001b[39m\u001b[39m{\u001b[39;00mimage\u001b[39m.\u001b[39mdtype\u001b[39m}\u001b[39;00m\u001b[39m`.\u001b[39m\u001b[39m\"\u001b[39m\n\u001b[1;32m    251\u001b[0m             )\n\u001b[0;32m--> 253\u001b[0m         writer\u001b[39m.\u001b[39;49mappend_data(image, metadata)\n\u001b[1;32m    255\u001b[0m \u001b[39mreturn\u001b[39;00m writer\u001b[39m.\u001b[39mrequest\u001b[39m.\u001b[39mget_result()\n",
      "File \u001b[0;32m~/cudi_research/python-venv/lib/python3.10/site-packages/imageio/core/format.py:590\u001b[0m, in \u001b[0;36mFormat.Writer.append_data\u001b[0;34m(self, im, meta)\u001b[0m\n\u001b[1;32m    589\u001b[0m \u001b[39m# Call\u001b[39;00m\n\u001b[0;32m--> 590\u001b[0m \u001b[39mreturn\u001b[39;00m \u001b[39mself\u001b[39;49m\u001b[39m.\u001b[39;49m_append_data(im, total_meta)\n",
      "File \u001b[0;32m~/cudi_research/python-venv/lib/python3.10/site-packages/imageio/plugins/pillow_legacy.py:456\u001b[0m, in \u001b[0;36mPNGFormat.Writer._append_data\u001b[0;34m(self, im, meta)\u001b[0m\n\u001b[1;32m    455\u001b[0m     im \u001b[39m=\u001b[39m image_as_uint(im, bitdepth\u001b[39m=\u001b[39m\u001b[39m8\u001b[39m)\n\u001b[0;32m--> 456\u001b[0m PillowFormat\u001b[39m.\u001b[39;49mWriter\u001b[39m.\u001b[39;49m_append_data(\u001b[39mself\u001b[39;49m, im, meta)\n",
      "File \u001b[0;32m~/cudi_research/python-venv/lib/python3.10/site-packages/imageio/plugins/pillow_legacy.py:379\u001b[0m, in \u001b[0;36mPillowFormat.Writer._append_data\u001b[0;34m(self, im, meta)\u001b[0m\n\u001b[1;32m    378\u001b[0m     img \u001b[39m=\u001b[39m img\u001b[39m.\u001b[39mquantize()  \u001b[39m# Make it a P image, so bits arg is used\u001b[39;00m\n\u001b[0;32m--> 379\u001b[0m img\u001b[39m.\u001b[39;49msave(\u001b[39mself\u001b[39;49m\u001b[39m.\u001b[39;49m_fp, \u001b[39mformat\u001b[39;49m\u001b[39m=\u001b[39;49m\u001b[39mself\u001b[39;49m\u001b[39m.\u001b[39;49mformat\u001b[39m.\u001b[39;49mplugin_id, \u001b[39m*\u001b[39;49m\u001b[39m*\u001b[39;49m\u001b[39mself\u001b[39;49m\u001b[39m.\u001b[39;49m_meta)\n\u001b[1;32m    380\u001b[0m save_pillow_close(img)\n",
      "File \u001b[0;32m~/cudi_research/python-venv/lib/python3.10/site-packages/PIL/Image.py:2432\u001b[0m, in \u001b[0;36mImage.save\u001b[0;34m(self, fp, format, **params)\u001b[0m\n\u001b[1;32m   2431\u001b[0m \u001b[39mtry\u001b[39;00m:\n\u001b[0;32m-> 2432\u001b[0m     save_handler(\u001b[39mself\u001b[39;49m, fp, filename)\n\u001b[1;32m   2433\u001b[0m \u001b[39mexcept\u001b[39;00m \u001b[39mException\u001b[39;00m:\n",
      "File \u001b[0;32m~/cudi_research/python-venv/lib/python3.10/site-packages/PIL/PngImagePlugin.py:1421\u001b[0m, in \u001b[0;36m_save\u001b[0;34m(im, fp, filename, chunk, save_all)\u001b[0m\n\u001b[1;32m   1420\u001b[0m \u001b[39mif\u001b[39;00m \u001b[39mhasattr\u001b[39m(fp, \u001b[39m\"\u001b[39m\u001b[39mflush\u001b[39m\u001b[39m\"\u001b[39m):\n\u001b[0;32m-> 1421\u001b[0m     fp\u001b[39m.\u001b[39;49mflush()\n",
      "\u001b[0;31mOSError\u001b[0m: [Errno 28] No space left on device",
      "\nDuring handling of the above exception, another exception occurred:\n",
      "\u001b[0;31mOSError\u001b[0m                                   Traceback (most recent call last)",
      "Cell \u001b[0;32mIn[46], line 174\u001b[0m\n\u001b[1;32m    171\u001b[0m             \u001b[39mself\u001b[39m\u001b[39m.\u001b[39msave_current_image(name,\u001b[39mslice\u001b[39m)\n\u001b[1;32m    173\u001b[0m p \u001b[39m=\u001b[39m SLICProcessor(image[:,:,:,\u001b[39m0\u001b[39m], \u001b[39m3000\u001b[39m, \u001b[39m40\u001b[39m)\n\u001b[0;32m--> 174\u001b[0m p\u001b[39m.\u001b[39;49miterate_times(\u001b[39m20\u001b[39;49m)\n\u001b[1;32m    176\u001b[0m \u001b[39m#name = 'lenna_M{m}_K{k}_loop{loop}_slice{slice}.png'.format(loop=0, m=40, k=2000, slice =slice)\u001b[39;00m\n\u001b[1;32m    177\u001b[0m \u001b[39m#p.save_current_image(name, slice)\u001b[39;00m\n",
      "Cell \u001b[0;32mIn[46], line 171\u001b[0m, in \u001b[0;36mSLICProcessor.iterate_times\u001b[0;34m(self, iter)\u001b[0m\n\u001b[1;32m    169\u001b[0m \u001b[39mself\u001b[39m\u001b[39m.\u001b[39mupdate_cluster()\n\u001b[1;32m    170\u001b[0m name \u001b[39m=\u001b[39m \u001b[39m'\u001b[39m\u001b[39mceus3d_M\u001b[39m\u001b[39m{m}\u001b[39;00m\u001b[39m_K\u001b[39m\u001b[39m{k}\u001b[39;00m\u001b[39m_loop\u001b[39m\u001b[39m{loop}\u001b[39;00m\u001b[39m.png\u001b[39m\u001b[39m'\u001b[39m\u001b[39m.\u001b[39mformat(loop\u001b[39m=\u001b[39mi, m\u001b[39m=\u001b[39m\u001b[39mself\u001b[39m\u001b[39m.\u001b[39mM, k\u001b[39m=\u001b[39m\u001b[39mself\u001b[39m\u001b[39m.\u001b[39mK)\n\u001b[0;32m--> 171\u001b[0m \u001b[39mself\u001b[39;49m\u001b[39m.\u001b[39;49msave_current_image(name,\u001b[39mslice\u001b[39;49m)\n",
      "Cell \u001b[0;32mIn[46], line 159\u001b[0m, in \u001b[0;36mSLICProcessor.save_current_image\u001b[0;34m(self, name, slice)\u001b[0m\n\u001b[1;32m    155\u001b[0m     image_arr[cluster\u001b[39m.\u001b[39mh][cluster\u001b[39m.\u001b[39mw][cluster\u001b[39m.\u001b[39md] \u001b[39m=\u001b[39m \u001b[39m0\u001b[39m \u001b[39m# mark the origin as dark point\u001b[39;00m\n\u001b[1;32m    157\u001b[0m \u001b[39m#print(self.clusters[0].pixels)\u001b[39;00m\n\u001b[0;32m--> 159\u001b[0m \u001b[39mself\u001b[39;49m\u001b[39m.\u001b[39;49msave_lab_image(name, image_arr, \u001b[39mslice\u001b[39;49m)\n",
      "Cell \u001b[0;32mIn[46], line 46\u001b[0m, in \u001b[0;36mSLICProcessor.save_lab_image\u001b[0;34m(path, lab_arr, slice)\u001b[0m\n\u001b[1;32m     43\u001b[0m abs_path \u001b[39m=\u001b[39m os\u001b[39m.\u001b[39mpath\u001b[39m.\u001b[39mjoin(\u001b[39m\"\u001b[39m\u001b[39moutputs\u001b[39m\u001b[39m\"\u001b[39m,path)\n\u001b[1;32m     44\u001b[0m gray_arr \u001b[39m=\u001b[39m lab_arr[\u001b[39mslice\u001b[39m,:,:]\n\u001b[0;32m---> 46\u001b[0m io\u001b[39m.\u001b[39;49mimsave(abs_path, gray_arr)\n",
      "File \u001b[0;32m~/cudi_research/python-venv/lib/python3.10/site-packages/skimage/io/_io.py:143\u001b[0m, in \u001b[0;36mimsave\u001b[0;34m(fname, arr, plugin, check_contrast, **plugin_args)\u001b[0m\n\u001b[1;32m    141\u001b[0m \u001b[39mif\u001b[39;00m check_contrast \u001b[39mand\u001b[39;00m is_low_contrast(arr):\n\u001b[1;32m    142\u001b[0m     warn(\u001b[39m'\u001b[39m\u001b[39m%s\u001b[39;00m\u001b[39m is a low contrast image\u001b[39m\u001b[39m'\u001b[39m \u001b[39m%\u001b[39m fname)\n\u001b[0;32m--> 143\u001b[0m \u001b[39mreturn\u001b[39;00m call_plugin(\u001b[39m'\u001b[39;49m\u001b[39mimsave\u001b[39;49m\u001b[39m'\u001b[39;49m, fname, arr, plugin\u001b[39m=\u001b[39;49mplugin, \u001b[39m*\u001b[39;49m\u001b[39m*\u001b[39;49mplugin_args)\n",
      "File \u001b[0;32m~/cudi_research/python-venv/lib/python3.10/site-packages/skimage/io/manage_plugins.py:207\u001b[0m, in \u001b[0;36mcall_plugin\u001b[0;34m(kind, *args, **kwargs)\u001b[0m\n\u001b[1;32m    203\u001b[0m     \u001b[39mexcept\u001b[39;00m \u001b[39mIndexError\u001b[39;00m:\n\u001b[1;32m    204\u001b[0m         \u001b[39mraise\u001b[39;00m \u001b[39mRuntimeError\u001b[39;00m(\u001b[39m'\u001b[39m\u001b[39mCould not find the plugin \u001b[39m\u001b[39m\"\u001b[39m\u001b[39m%s\u001b[39;00m\u001b[39m\"\u001b[39m\u001b[39m for \u001b[39m\u001b[39m%s\u001b[39;00m\u001b[39m.\u001b[39m\u001b[39m'\u001b[39m \u001b[39m%\u001b[39m\n\u001b[1;32m    205\u001b[0m                            (plugin, kind))\n\u001b[0;32m--> 207\u001b[0m \u001b[39mreturn\u001b[39;00m func(\u001b[39m*\u001b[39;49margs, \u001b[39m*\u001b[39;49m\u001b[39m*\u001b[39;49mkwargs)\n",
      "File \u001b[0;32m~/cudi_research/python-venv/lib/python3.10/site-packages/imageio/v2.py:263\u001b[0m, in \u001b[0;36mimwrite\u001b[0;34m(uri, im, format, **kwargs)\u001b[0m\n\u001b[1;32m    261\u001b[0m imopen_args \u001b[39m=\u001b[39m decypher_format_arg(\u001b[39mformat\u001b[39m)\n\u001b[1;32m    262\u001b[0m imopen_args[\u001b[39m\"\u001b[39m\u001b[39mlegacy_mode\u001b[39m\u001b[39m\"\u001b[39m] \u001b[39m=\u001b[39m \u001b[39mTrue\u001b[39;00m\n\u001b[0;32m--> 263\u001b[0m \u001b[39mwith\u001b[39;00m imopen(uri, \u001b[39m\"\u001b[39m\u001b[39mwi\u001b[39m\u001b[39m\"\u001b[39m, \u001b[39m*\u001b[39m\u001b[39m*\u001b[39mimopen_args) \u001b[39mas\u001b[39;00m file:\n\u001b[1;32m    264\u001b[0m     \u001b[39mreturn\u001b[39;00m file\u001b[39m.\u001b[39mwrite(im, \u001b[39m*\u001b[39m\u001b[39m*\u001b[39mkwargs)\n",
      "File \u001b[0;32m~/cudi_research/python-venv/lib/python3.10/site-packages/imageio/core/v3_plugin_api.py:367\u001b[0m, in \u001b[0;36mPluginV3.__exit__\u001b[0;34m(self, type, value, traceback)\u001b[0m\n\u001b[1;32m    366\u001b[0m \u001b[39mdef\u001b[39;00m \u001b[39m__exit__\u001b[39m(\u001b[39mself\u001b[39m, \u001b[39mtype\u001b[39m, value, traceback) \u001b[39m-\u001b[39m\u001b[39m>\u001b[39m \u001b[39mNone\u001b[39;00m:\n\u001b[0;32m--> 367\u001b[0m     \u001b[39mself\u001b[39;49m\u001b[39m.\u001b[39;49mclose()\n",
      "File \u001b[0;32m~/cudi_research/python-venv/lib/python3.10/site-packages/imageio/core/v3_plugin_api.py:357\u001b[0m, in \u001b[0;36mPluginV3.close\u001b[0;34m(self)\u001b[0m\n\u001b[1;32m    341\u001b[0m \u001b[39mdef\u001b[39;00m \u001b[39mclose\u001b[39m(\u001b[39mself\u001b[39m) \u001b[39m-\u001b[39m\u001b[39m>\u001b[39m \u001b[39mNone\u001b[39;00m:\n\u001b[1;32m    342\u001b[0m \u001b[39m    \u001b[39m\u001b[39m\"\"\"Close the ImageResource.\u001b[39;00m\n\u001b[1;32m    343\u001b[0m \n\u001b[1;32m    344\u001b[0m \u001b[39m    This method allows a plugin to behave similar to the python build-in ``open``::\u001b[39;00m\n\u001b[0;32m   (...)\u001b[0m\n\u001b[1;32m    354\u001b[0m \n\u001b[1;32m    355\u001b[0m \u001b[39m    \"\"\"\u001b[39;00m\n\u001b[0;32m--> 357\u001b[0m     \u001b[39mself\u001b[39;49m\u001b[39m.\u001b[39;49mrequest\u001b[39m.\u001b[39;49mfinish()\n",
      "File \u001b[0;32m~/cudi_research/python-venv/lib/python3.10/site-packages/imageio/core/request.py:570\u001b[0m, in \u001b[0;36mRequest.finish\u001b[0;34m(self)\u001b[0m\n\u001b[1;32m    565\u001b[0m         \u001b[39m# elif self._uri_type == URI_FILENAME: -> is always direct\u001b[39;00m\n\u001b[1;32m    566\u001b[0m         \u001b[39m# elif self._uri_type == URI_FTP/HTTP: -> write not supported\u001b[39;00m\n\u001b[1;32m    567\u001b[0m \n\u001b[1;32m    568\u001b[0m \u001b[39m# Close open files that we know of (and are responsible for)\u001b[39;00m\n\u001b[1;32m    569\u001b[0m \u001b[39mif\u001b[39;00m \u001b[39mself\u001b[39m\u001b[39m.\u001b[39m_file \u001b[39mand\u001b[39;00m \u001b[39mself\u001b[39m\u001b[39m.\u001b[39m_uri_type \u001b[39m!=\u001b[39m URI_FILE:\n\u001b[0;32m--> 570\u001b[0m     \u001b[39mself\u001b[39;49m\u001b[39m.\u001b[39;49m_file\u001b[39m.\u001b[39;49mclose()\n\u001b[1;32m    571\u001b[0m     \u001b[39mself\u001b[39m\u001b[39m.\u001b[39m_file \u001b[39m=\u001b[39m \u001b[39mNone\u001b[39;00m\n\u001b[1;32m    572\u001b[0m \u001b[39mif\u001b[39;00m \u001b[39mself\u001b[39m\u001b[39m.\u001b[39m_zipfile:\n",
      "\u001b[0;31mOSError\u001b[0m: [Errno 28] No space left on device"
     ]
    }
   ],
   "source": [
    "#### 3-D gray\n",
    "import math\n",
    "from skimage import io, color\n",
    "import numpy as np\n",
    "from tqdm import trange\n",
    "\n",
    "\n",
    "class Cluster(object):\n",
    "    cluster_index = 1\n",
    "\n",
    "    def __init__(self, h, w, d, l=0):\n",
    "        self.update(h, w, d, l)\n",
    "        self.pixels = []\n",
    "        self.no = self.cluster_index\n",
    "        Cluster.cluster_index += 1\n",
    "\n",
    "    def update(self, h, w, d, l):\n",
    "        self.h = h\n",
    "        self.w = w\n",
    "        self.d = d\n",
    "        self.l = l\n",
    "    \n",
    "\n",
    "    def __str__(self):\n",
    "        return \"{},{}:{} {} {} \".format(self.h, self.w, self.d, self.l)\n",
    "\n",
    "    def __repr__(self):\n",
    "        return self.__str__()\n",
    "\n",
    "\n",
    "class SLICProcessor(object):\n",
    "    \n",
    "    \n",
    "\n",
    "    @staticmethod\n",
    "    def save_lab_image(path, lab_arr,slice):\n",
    "        \"\"\"\n",
    "        save the gray image\n",
    "        :param path:\n",
    "        :param lab_arr:\n",
    "        :return:\n",
    "        \"\"\"\n",
    "        abs_path = os.path.join(\"outputs\",path)\n",
    "        gray_arr = lab_arr[slice,:,:]\n",
    "        \n",
    "        io.imsave(abs_path, gray_arr)\n",
    "\n",
    "    def make_cluster(self, h, w, d):\n",
    "        h = int(h)\n",
    "        w = int(w)\n",
    "        d = int(d)\n",
    "        return Cluster(h, w, d, self.data[h][w][d])\n",
    "                       \n",
    "\n",
    "    def __init__(self, image, K, M):\n",
    "        self.K = K # total number of superpixels \n",
    "        self.M = M\n",
    "\n",
    "        self.data = image\n",
    "        self.image_height = self.data.shape[0]\n",
    "        self.image_width = self.data.shape[1]\n",
    "        self.image_depth = self.data.shape[2]\n",
    "        self.N = self.image_height * self.image_width * self.image_depth\n",
    "        #self.S = int(math.sqrt(self.N / self.K))\n",
    "        self.S = int(math.pow(self.N/self.K, 1/3))\n",
    "\n",
    "        self.clusters = []\n",
    "        self.label = {}\n",
    "        self.dis = np.full((self.image_height, self.image_width, self.image_depth), np.inf)\n",
    "\n",
    "    def init_clusters(self):\n",
    "        h = self.S / 2\n",
    "        w = self.S / 2\n",
    "        d = self.S / 2\n",
    "        while h < self.image_height:\n",
    "            while w < self.image_width:\n",
    "                while d < self.image_depth:\n",
    "                    self.clusters.append(self.make_cluster(h, w, d))\n",
    "                    d += self.S\n",
    "                d = self.S /2\n",
    "                self.clusters.append(self.make_cluster(h, w, d))\n",
    "                w += self.S\n",
    "            w = self.S / 2\n",
    "            h += self.S\n",
    "\n",
    "    def get_gradient(self, h, w, d):\n",
    "        if w + 1 >= self.image_width:\n",
    "            w = self.image_width - 2\n",
    "        if h + 1 >= self.image_height:\n",
    "            h = self.image_height - 2\n",
    "        if d + 1 >= self.image_width:\n",
    "            d = self.image_depth - 2\n",
    "        \n",
    "        gradient = float(self.data[h + 1][w + 1][d + 1]) - float(self.data[h][w][d] )\n",
    "        return gradient\n",
    "\n",
    "\n",
    "    def move_clusters(self):\n",
    "        for cluster in self.clusters:\n",
    "            cluster_gradient = self.get_gradient(cluster.h, cluster.w, cluster.d)\n",
    "            for dh in range(-1, 2):\n",
    "                for dw in range(-1, 2):\n",
    "                    for dd in range(-1, 2):\n",
    "                        _h = cluster.h + dh\n",
    "                        _w = cluster.w + dw\n",
    "                        _d = cluster.d + dd\n",
    "                        new_gradient = self.get_gradient(_h, _w, _d)\n",
    "                        if new_gradient < cluster_gradient:\n",
    "                            cluster.update(_h, _w, _d, self.data[_h][_w][_d])\n",
    "                            cluster_gradient = new_gradient\n",
    "\n",
    "    def assignment(self):\n",
    "        for cluster in self.clusters:\n",
    "            for h in range(cluster.h - 2 * self.S, cluster.h + 2 * self.S):\n",
    "                if h < 0 or h >= self.image_height: continue\n",
    "                for w in range(cluster.w - 2 * self.S, cluster.w + 2 * self.S):\n",
    "                    if w < 0 or w >= self.image_width: continue\n",
    "                    for d in range(cluster.d - 2 * self.S, cluster.d + 2 * self.S):\n",
    "                        if d < 0 or d >= self.image_depth: continue\n",
    "                        \n",
    "                        L = self.data[h][w][d]\n",
    "                        Dc = abs(float(L) - float(cluster.l))\n",
    "                        Ds = math.sqrt(\n",
    "                            math.pow(h - cluster.h, 2) +\n",
    "                            math.pow(w - cluster.w, 2) +\n",
    "                            math.pow(d - cluster.d, 2))\n",
    "                        \n",
    "                        D = math.sqrt(math.pow(Dc / self.M, 2) + math.pow(Ds / self.S, 2))\n",
    "                        if D < self.dis[h][w][d]:\n",
    "                            if (h, w, d) not in self.label:\n",
    "                                self.label[(h, w, d)] = cluster\n",
    "                                cluster.pixels.append((h, w, d))\n",
    "                            else:\n",
    "\n",
    "                                self.label[(h, w, d)].pixels.remove((h, w, d))\n",
    "                                self.label[(h, w, d)] = cluster\n",
    "                                cluster.pixels.append((h, w, d))\n",
    "                            self.dis[h][w][d] = D\n",
    "\n",
    "    def update_cluster(self):\n",
    "        # update new origin\n",
    "        for cluster in self.clusters:\n",
    "            pixels = np.array(cluster.pixels)\n",
    "            if pixels.shape[0] !=0:\n",
    "                _hf, _wf, _df = np.mean(pixels, axis=0)\n",
    "                _h, _w, _d = int(_hf), int(_wf), int(_df)\n",
    "                cluster.update(_h, _w, _d, self.data[_h][_w][_d])\n",
    "\n",
    "    def save_current_image(self, name,slice):\n",
    "        image_arr = np.copy(self.data)\n",
    "        for cluster in self.clusters:\n",
    "            for p in cluster.pixels:\n",
    "                image_arr[p[0]][p[1]][p[2]] = cluster.l # use intensity of origin to represent whole window\n",
    "                \n",
    "            image_arr[cluster.h][cluster.w][cluster.d] = 0 # mark the origin as dark point\n",
    "            \n",
    "        #print(self.clusters[0].pixels)\n",
    "        \n",
    "        self.save_lab_image(name, image_arr, slice)\n",
    "\n",
    "    def iterate_times(self, iter):\n",
    "        self.init_clusters()\n",
    "        print(\"init\",self.clusters[0].pixels)\n",
    "        self.move_clusters()\n",
    "        print(\"move\",self.clusters[0].pixels)\n",
    "        slice = 60\n",
    "        for i in trange(iter):\n",
    "            self.assignment()\n",
    "            self.update_cluster()\n",
    "            name = 'ceus3d_M{m}_K{k}_loop{loop}.png'.format(loop=i, m=self.M, k=self.K)\n",
    "            self.save_current_image(name,slice)\n",
    "\n",
    "p = SLICProcessor(image[:,:,:,0], 3000, 40)\n",
    "p.iterate_times(20)\n",
    "\n",
    "#name = 'lenna_M{m}_K{k}_loop{loop}_slice{slice}.png'.format(loop=0, m=40, k=2000, slice =slice)\n",
    "#p.save_current_image(name, slice)"
   ]
  }
 ],
 "metadata": {
  "kernelspec": {
   "display_name": "python-venv",
   "language": "python",
   "name": "python3"
  },
  "language_info": {
   "codemirror_mode": {
    "name": "ipython",
    "version": 3
   },
   "file_extension": ".py",
   "mimetype": "text/x-python",
   "name": "python",
   "nbconvert_exporter": "python",
   "pygments_lexer": "ipython3",
   "version": "3.10.10 (main, Feb 16 2023, 02:55:02) [Clang 14.0.0 (clang-1400.0.29.202)]"
  },
  "orig_nbformat": 4,
  "vscode": {
   "interpreter": {
    "hash": "8d3a19ded02a411fbd4038e0888a93782a9a20c161aca531ed33d3bd1e06a6a8"
   }
  }
 },
 "nbformat": 4,
 "nbformat_minor": 2
}
